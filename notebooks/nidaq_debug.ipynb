{
 "cells": [
  {
   "cell_type": "code",
   "execution_count": 5,
   "metadata": {},
   "outputs": [
    {
     "data": {
      "text/plain": [
       "{'channel_modes': {'cc': {'description': 'current clamp',\n",
       "   'input_units': 'pA',\n",
       "   'output_units': 'mV',\n",
       "   'input_conversion': 0.1,\n",
       "   'output_conversion': 0.01},\n",
       "  'vc': {'description': 'voltage clamp',\n",
       "   'input_units': 'pA',\n",
       "   'output_units': 'mV',\n",
       "   'input_conversion': 0.1,\n",
       "   'output_conversion': 0.01},\n",
       "  'ttl': {'description': 'TTL digital logic',\n",
       "   'input_units': 'na',\n",
       "   'output_units': 'na',\n",
       "   'input_conversion': 1,\n",
       "   'output_conversion': 1},\n",
       "  'analog': {'description': 'regular_output',\n",
       "   'input_units': 'V',\n",
       "   'output_units': 'V',\n",
       "   'input_conversion': 1,\n",
       "   'output_conversion': 1}},\n",
       " 'channels': [{'name': 'ephys_in',\n",
       "   'type': 'analog_input',\n",
       "   'modes': ['vc', 'cc'],\n",
       "   'device': 'ni:Dev0',\n",
       "   'channel': 'ai0',\n",
       "   'acq_rate': 20000,\n",
       "   'range': [-10, 10]},\n",
       "  {'name': 'ephys_out',\n",
       "   'type': 'analog_output',\n",
       "   'modes': ['vc', 'cc'],\n",
       "   'device': 'ni:Dev0',\n",
       "   'channel': 'ao0',\n",
       "   'acq_rate': 20000,\n",
       "   'range': [-10, 10]}]}"
      ]
     },
     "execution_count": 5,
     "metadata": {},
     "output_type": "execute_result"
    }
   ],
   "source": [
    "from labdaq.utils import *\n",
    "default_preferences\n"
   ]
  }
 ],
 "metadata": {
  "kernelspec": {
   "display_name": "Python 3",
   "language": "python",
   "name": "python3"
  },
  "language_info": {
   "codemirror_mode": {
    "name": "ipython",
    "version": 3
   },
   "file_extension": ".py",
   "mimetype": "text/x-python",
   "name": "python",
   "nbconvert_exporter": "python",
   "pygments_lexer": "ipython3",
   "version": "3.7.6"
  }
 },
 "nbformat": 4,
 "nbformat_minor": 4
}
