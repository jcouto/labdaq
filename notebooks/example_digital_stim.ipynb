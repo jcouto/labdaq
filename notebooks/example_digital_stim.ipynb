{
 "cells": [
  {
   "cell_type": "markdown",
   "metadata": {},
   "source": [
    "# Example digital stimulation on nidaq in sync with analog input/output\n"
   ]
  },
  {
   "cell_type": "code",
   "execution_count": null,
   "metadata": {},
   "outputs": [],
   "source": [
    "# Create a task\n",
    "%matplotlib notebook\n",
    "from labdaq import *\n",
    "\n",
    "import pylab as plt\n",
    "\n",
    "pref = get_preferences()\n",
    "task = IOTask(pref['channels'],pref['channel_modes'])"
   ]
  },
  {
   "cell_type": "code",
   "execution_count": null,
   "metadata": {
    "scrolled": false
   },
   "outputs": [],
   "source": [
    "# Connect to labcams, prepare stim (opto and gate)\n",
    "# opto and gate\n",
    "blueoff_time = .25\n",
    "blueon_time = 1 \n",
    "redon_time = 0.5\n",
    "ntrials = 10\n",
    "iti = 1\n",
    "expname = 'tifftest2'\n",
    "opto = stimgen_waveform([\n",
    "    [blueon_time,1,0],\n",
    "    [blueoff_time,1,0],\n",
    "    [blueon_time,1,0],\n",
    "    [redon_time,1,1],\n",
    "    [blueon_time,1,0,]],\n",
    "    srate = task.srate)\n",
    "gate = stimgen_waveform([[blueon_time,1,0],\n",
    "                         [blueoff_time,1,1],\n",
    "                         [blueon_time,1,0],\n",
    "                         [redon_time,1,0],\n",
    "                         [blueon_time,1,0]],\n",
    "                        srate = task.srate)\n",
    "\n",
    "import socket\n",
    "labcamsaddress = ('widefield.cshl.edu',9999)\n",
    "udplabcams = socket.socket(socket.AF_INET,\n",
    "                           socket.SOCK_DGRAM)\n",
    "# stop labcams\n",
    "udplabcams.sendto(b'softtrigger=0', labcamsaddress)\n",
    "# set the experiment name\n",
    "from datetime import datetime\n",
    "date = datetime.now().strftime(\"%Y_%m_%d\")\n",
    "fname = '{0}_{1}_opto_GCaMP'.format(date,expname)\n",
    "udplabcams.sendto(b'manualsave=0', labcamsaddress)\n",
    "time.sleep(0.1)\n",
    "fig = plt.figure()\n",
    "tstart = 0\n",
    "for itrial in range(ntrials):\n",
    "    udplabcams.sendto('expname={0}'.format(fname).encode('utf-8'), labcamsaddress)    \n",
    "    time.sleep(0.1)\n",
    "    udplabcams.sendto(b'manualsave=1', labcamsaddress)\n",
    "    time.sleep(0.1)\n",
    "    udplabcams.sendto(b'softtrigger=1', labcamsaddress)\n",
    "    time.sleep(0.1)\n",
    "    udplabcams.sendto('log=trial:{0}'.format(itrial).encode('utf-8'), labcamsaddress)\n",
    "    time.sleep(0.1)\n",
    "    task.load([opto*0],digstim = [opto,gate])\n",
    "    values = task.run()\n",
    "    udplabcams.sendto(b'softtrigger=0', labcamsaddress)\n",
    "    time.sleep(0.1)\n",
    "    udplabcams.sendto(b'manualsave=0', labcamsaddress)\n",
    "    \n",
    "    fig.clf()\n",
    "    plt.plot(np.arange(len(opto))/task.srate,values.T)\n",
    "    plt.vlines([blueoff_time+blueon_time,\n",
    "                blueoff_time+blueon_time+redon_time],0,10,color = 'red')\n",
    "    \n",
    "    fig.canvas.draw()\n",
    "    time.sleep(iti)\n",
    "    "
   ]
  }
 ],
 "metadata": {
  "kernelspec": {
   "display_name": "Python 3",
   "language": "python",
   "name": "python3"
  },
  "language_info": {
   "codemirror_mode": {
    "name": "ipython",
    "version": 3
   },
   "file_extension": ".py",
   "mimetype": "text/x-python",
   "name": "python",
   "nbconvert_exporter": "python",
   "pygments_lexer": "ipython3",
   "version": "3.7.4"
  }
 },
 "nbformat": 4,
 "nbformat_minor": 4
}
