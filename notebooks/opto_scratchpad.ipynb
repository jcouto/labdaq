{
 "cells": [
  {
   "cell_type": "code",
   "execution_count": null,
   "metadata": {},
   "outputs": [],
   "source": [
    "import numpy as np\n",
    "import pylab as plt\n",
    "%matplotlib notebook\n",
    "\n",
    "# plt.figure(figsize = (6,2))\n",
    "# srate = 5000\n",
    "# t = np.linspace(0,1,1*srate)\n",
    "# plt.plot(t,sqsine(1,40,srate,post_ramp = 0.2))\n"
   ]
  },
  {
   "cell_type": "code",
   "execution_count": null,
   "metadata": {},
   "outputs": [],
   "source": [
    "import threading\n",
    "import nidaqmx\n",
    "from nidaqmx.stream_writers import AnalogMultiChannelWriter\n",
    "from nidaqmx.stream_readers import AnalogMultiChannelReader\n",
    "from nidaqmx.stream_writers import DigitalMultiChannelWriter\n",
    "\n",
    "def sqsine(duration,\n",
    "           frequency,\n",
    "           sampling_rate,\n",
    "           pre_ramp = 0,\n",
    "           post_ramp = 0,\n",
    "           **kwargs):\n",
    "    t = np.linspace(0,duration,int(duration*sampling_rate))\n",
    "    waveform = np.sin(frequency*np.pi*t)**2\n",
    "    ramp = np.ones_like(t)\n",
    "    if pre_ramp>0:\n",
    "        ramp[(t<(pre_ramp))] = (1/pre_ramp)*t[(t<(pre_ramp))] \n",
    "    if post_ramp>0:\n",
    "        ramp[(t>(duration-post_ramp))] = (1/post_ramp)*t[(t<(post_ramp))][::-1] \n",
    "    return waveform*ramp\n",
    "\n",
    "class TriggeredOptogeneticsWaveform():\n",
    "    def __init__(self,\n",
    "                 device = 'dev1',\n",
    "                 waveform_channel = 0,\n",
    "                 trigger_channel = None,\n",
    "                 sampling_rate = None,\n",
    "                 vrange = 10):\n",
    "        self.device = device\n",
    "        self.waveform_channel = waveform_channel\n",
    "        self.trigger_channel = trigger_channel\n",
    "        self.vrange = vrange\n",
    "        self.sampling_rate = sampling_rate\n",
    "        \n",
    "        self.task_ao = nidaqmx.Task()\n",
    "        self.task_ao.ao_channels.add_ao_voltage_chan('{0}/ao{1}'.format(self.device,self.waveform_channel),\n",
    "                        min_val = -1*vrange,\n",
    "                        max_val = vrange)\n",
    "        if self.sampling_rate is None:\n",
    "            self.sampling_rate = self.task_ao.timing.samp_clk_max_rate\n",
    "        self.task_ao.timing.samp_clk_rate = self.sampling_rate\n",
    "        self.waveform_parameters = None\n",
    "        self.loaded = False\n",
    "        \n",
    "    def load(self,\n",
    "             generator = 'sqsine',\n",
    "             duration = 1,\n",
    "             amplitude = 1,\n",
    "             frequency = 40,\n",
    "             pre_ramp = 0,\n",
    "             post_ramp = 0.2,\n",
    "             **kwargs):\n",
    "        self.waveform = None\n",
    "        self.loaded = False\n",
    "        if generator == 'sqsine':\n",
    "            self.waveform_parameters = dict(generator = generator,\n",
    "                                            duration = duration,\n",
    "                                            amplitude = amplitude,\n",
    "                                            frequency = frequency,\n",
    "                                            pre_ramp = pre_ramp,\n",
    "                                            post_ramp = post_ramp,\n",
    "                                            sampling_rate = self.sampling_rate,\n",
    "                                            **kwargs)\n",
    "            self.waveform = self.waveform_parameters['amplitude']*sqsine(**self.waveform_parameters)\n",
    "        else:\n",
    "            raise(ValueError('Could not load waveform. Unknown generator {0}'.format(generator)))\n",
    "        #self.task_ao.export_signals.export_signal(nidaqmx.constants.Signal.SAMPLE_CLOCK, 'PFI0')\n",
    "        self.task_ao.timing.cfg_samp_clk_timing(\n",
    "            rate = self.sampling_rate,\n",
    "            samps_per_chan = len(self.waveform))\n",
    "        self.task_ao.write(self.waveform,auto_start=False)\n",
    "        self.loaded = True\n",
    "        \n",
    "    def start(self):\n",
    "        self.task_ao.start()\n",
    "    def close(self):\n",
    "        if not self.task_ao is None:\n",
    "            self.task_ao.close()\n",
    "            self.task_ao = None"
   ]
  },
  {
   "cell_type": "code",
   "execution_count": null,
   "metadata": {},
   "outputs": [],
   "source": [
    "task = TriggeredOptogeneticsWaveform()\n",
    "# task.load(frequency=40)"
   ]
  },
  {
   "cell_type": "code",
   "execution_count": null,
   "metadata": {},
   "outputs": [],
   "source": [
    "task.load(frequency=40,amplitude = 4)"
   ]
  },
  {
   "cell_type": "code",
   "execution_count": null,
   "metadata": {},
   "outputs": [],
   "source": [
    "task.task_ao.timing.cfg_samp_clk_timing(rate=5000,samps_per_chan=2)\n",
    "task.task_ao.write([2.5,2.5],auto_start=True)"
   ]
  },
  {
   "cell_type": "code",
   "execution_count": null,
   "metadata": {},
   "outputs": [],
   "source": [
    "task.start()\n",
    "\n",
    "# # task.task_ao.wait_until_done()\n",
    "# task.task_ao.stop()# nidaqmx.constants.SampleTimingType.SAMPLE_CLOCK\n",
    "    "
   ]
  },
  {
   "cell_type": "code",
   "execution_count": null,
   "metadata": {},
   "outputs": [],
   "source": [
    "task_ao.write(10*sqsine(1,100,5000,post_ramp = 0.2),auto_start=True)"
   ]
  },
  {
   "cell_type": "code",
   "execution_count": null,
   "metadata": {},
   "outputs": [],
   "source": [
    "task.task_ao.write([2,2],auto_start=True)"
   ]
  },
  {
   "cell_type": "code",
   "execution_count": null,
   "metadata": {},
   "outputs": [],
   "source": [
    "task_ao.write([1,1],auto_start=True)"
   ]
  },
  {
   "cell_type": "code",
   "execution_count": null,
   "metadata": {},
   "outputs": [],
   "source": [
    "plt.plot(task.waveform)"
   ]
  }
 ],
 "metadata": {
  "kernelspec": {
   "display_name": "Python 3",
   "language": "python",
   "name": "python3"
  },
  "language_info": {
   "codemirror_mode": {
    "name": "ipython",
    "version": 3
   },
   "file_extension": ".py",
   "mimetype": "text/x-python",
   "name": "python",
   "nbconvert_exporter": "python",
   "pygments_lexer": "ipython3",
   "version": "3.8.5"
  }
 },
 "nbformat": 4,
 "nbformat_minor": 4
}
